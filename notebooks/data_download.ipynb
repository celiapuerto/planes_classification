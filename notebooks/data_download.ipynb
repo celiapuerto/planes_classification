{
  "nbformat": 4,
  "nbformat_minor": 0,
  "metadata": {
    "colab": {
      "name": "data_download.ipynb",
      "provenance": [],
      "toc_visible": true,
      "authorship_tag": "ABX9TyMKKwwKMGoV2I+ZLgIcyMsE",
      "include_colab_link": true
    },
    "kernelspec": {
      "name": "python3",
      "display_name": "Python 3"
    },
    "language_info": {
      "name": "python"
    }
  },
  "cells": [
    {
      "cell_type": "markdown",
      "metadata": {
        "id": "view-in-github",
        "colab_type": "text"
      },
      "source": [
        "<a href=\"https://colab.research.google.com/github/celiapuerto/planes_classification/blob/main/notebooks/data_download.ipynb\" target=\"_parent\"><img src=\"https://colab.research.google.com/assets/colab-badge.svg\" alt=\"Open In Colab\"/></a>"
      ]
    },
    {
      "cell_type": "markdown",
      "source": [
        "Download images and anotations"
      ],
      "metadata": {
        "id": "z4zbID9QAEBz"
      }
    },
    {
      "cell_type": "code",
      "execution_count": 2,
      "metadata": {
        "colab": {
          "base_uri": "https://localhost:8080/"
        },
        "id": "NGbz34Hj6WdS",
        "outputId": "3aced87a-a153-4ea1-e3fa-9b0bd3aec756"
      },
      "outputs": [
        {
          "output_type": "stream",
          "name": "stdout",
          "text": [
            "  % Total    % Received % Xferd  Average Speed   Time    Time     Time  Current\n",
            "                                 Dload  Upload   Total   Spent    Left  Speed\n",
            "100 2625M  100 2625M    0     0  8029k      0  0:05:34  0:05:34 --:--:-- 15.6M\n"
          ]
        }
      ],
      "source": [
        "# curl : download data and save to file\n",
        "! curl -O https://www.robots.ox.ac.uk/~vgg/data/fgvc-aircraft/archives/fgvc-aircraft-2013b.tar.gz"
      ]
    },
    {
      "cell_type": "code",
      "source": [
        "# fichier tar \n",
        "#commmande :\n",
        "# x= extraire\n",
        "# f= pour indiquer le nom du fichier (en dernier)\n",
        "# z=le fichier est compressé\n",
        "# t= lister les fichier sans décomprésser\n",
        "# v= avoir du détail\n",
        "# c= créer un tarfile\n",
        "!tar xzf fgvc-aircraft-2013b.tar.gz"
      ],
      "metadata": {
        "id": "DE5ZwSVI82YZ"
      },
      "execution_count": 3,
      "outputs": []
    },
    {
      "cell_type": "code",
      "source": [
        ""
      ],
      "metadata": {
        "id": "YdeWXcf882kM"
      },
      "execution_count": null,
      "outputs": []
    },
    {
      "cell_type": "code",
      "source": [
        ""
      ],
      "metadata": {
        "id": "9BAguGnl82nm"
      },
      "execution_count": null,
      "outputs": []
    },
    {
      "cell_type": "code",
      "source": [
        ""
      ],
      "metadata": {
        "id": "-G-xZzwD82t5"
      },
      "execution_count": null,
      "outputs": []
    }
  ]
}