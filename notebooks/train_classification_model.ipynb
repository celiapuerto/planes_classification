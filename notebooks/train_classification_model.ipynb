{
  "nbformat": 4,
  "nbformat_minor": 0,
  "metadata": {
    "colab": {
      "name": "train_classification_model.ipynb",
      "provenance": [],
      "authorship_tag": "ABX9TyOdD2Jy8thE7aTten88ZyAX",
      "include_colab_link": true
    },
    "kernelspec": {
      "name": "python3",
      "display_name": "Python 3"
    },
    "language_info": {
      "name": "python"
    }
  },
  "cells": [
    {
      "cell_type": "markdown",
      "metadata": {
        "id": "view-in-github",
        "colab_type": "text"
      },
      "source": [
        "<a href=\"https://colab.research.google.com/github/celiapuerto/planes_classification/blob/main/notebooks/train_classification_model.ipynb\" target=\"_parent\"><img src=\"https://colab.research.google.com/assets/colab-badge.svg\" alt=\"Open In Colab\"/></a>"
      ]
    },
    {
      "cell_type": "code",
      "execution_count": 1,
      "metadata": {
        "colab": {
          "base_uri": "https://localhost:8080/"
        },
        "id": "9SnsVErkYt8U",
        "outputId": "e55a1361-1d8e-428f-9d25-3d7750651002"
      },
      "outputs": [
        {
          "output_type": "stream",
          "name": "stdout",
          "text": [
            "  % Total    % Received % Xferd  Average Speed   Time    Time     Time  Current\n",
            "                                 Dload  Upload   Total   Spent    Left  Speed\n",
            "100 2625M  100 2625M    0     0  7894k      0  0:05:40  0:05:40 --:--:-- 10.4M\n"
          ]
        }
      ],
      "source": [
        "! curl -O https://www.robots.ox.ac.uk/~vgg/data/fgvc-aircraft/archives/fgvc-aircraft-2013b.tar.gz"
      ]
    },
    {
      "cell_type": "code",
      "source": [
        "\n",
        "!tar xzf fgvc-aircraft-2013b.tar.gz"
      ],
      "metadata": {
        "id": "d-IzDHJCZI5O"
      },
      "execution_count": 2,
      "outputs": []
    },
    {
      "cell_type": "code",
      "source": [
        "! mv fgvc-aircraft-2013b dataset"
      ],
      "metadata": {
        "id": "EJBU3wfzZNDE"
      },
      "execution_count": 3,
      "outputs": []
    },
    {
      "cell_type": "code",
      "source": [
        "import pandas as pd"
      ],
      "metadata": {
        "id": "4wshcF3sZctE"
      },
      "execution_count": 4,
      "outputs": []
    },
    {
      "cell_type": "code",
      "source": [
        "import pathlib "
      ],
      "metadata": {
        "id": "0VXSVQLLawoS"
      },
      "execution_count": 5,
      "outputs": []
    },
    {
      "cell_type": "code",
      "source": [
        "# on met en majuscule car c'est une constante, ça ne va pas changer\n",
        "DATA_DIR= pathlib.Path('dataset/data')"
      ],
      "metadata": {
        "id": "6zOj__7hawxw"
      },
      "execution_count": 6,
      "outputs": []
    },
    {
      "cell_type": "code",
      "source": [
        "#lire un fichier\n",
        "# DATA_DIR c'est le debut du chemin pour qu'on est pas a le réécrire\n",
        "\n",
        "manufacturer_df=pd.read_csv(DATA_DIR/'images_manufacturer_train.txt', sep=' ',\n",
        "            names=['image_id', 'manufacturer'],\n",
        "            dtype={'image_id': str}, #pour prendre id comme chaine de caractère, cela permet de prendre les 0 non significatifs\n",
        "            )"
      ],
      "metadata": {
        "id": "hpC7Ukztawdl"
      },
      "execution_count": 10,
      "outputs": []
    },
    {
      "cell_type": "code",
      "source": [
        "manufacturer_df['manufacturer'].value_counts(dropna=False)"
      ],
      "metadata": {
        "colab": {
          "base_uri": "https://localhost:8080/"
        },
        "id": "kAN8IfEGgBgK",
        "outputId": "eb9ebf93-582e-41d9-c1ed-efe311ea664e"
      },
      "execution_count": 12,
      "outputs": [
        {
          "output_type": "execute_result",
          "data": {
            "text/plain": [
              "Boeing         733\n",
              "Airbus         434\n",
              "Embraer        233\n",
              "McDonnell      232\n",
              "de             167\n",
              "Canadair       134\n",
              "Douglas        133\n",
              "Cessna         133\n",
              "British        133\n",
              "Lockheed       102\n",
              "Fokker         100\n",
              "Dassault        67\n",
              "Gulfstream      67\n",
              "Beechcraft      67\n",
              "Saab            67\n",
              "Tupolev         66\n",
              "ATR             66\n",
              "Panavia         34\n",
              "Antonov         34\n",
              "Dornier         34\n",
              "Yakovlev        34\n",
              "Bombardier      33\n",
              "Ilyushin        33\n",
              "Fairchild       33\n",
              "Piper           33\n",
              "Cirrus          33\n",
              "Eurofighter     33\n",
              "Supermarine     33\n",
              "Robin           33\n",
              "Name: manufacturer, dtype: int64"
            ]
          },
          "metadata": {},
          "execution_count": 12
        }
      ]
    },
    {
      "cell_type": "code",
      "source": [
        "#pour voir si il y a des valeurs manquantes\n",
        "manufacturer_df.isna().sum()"
      ],
      "metadata": {
        "colab": {
          "base_uri": "https://localhost:8080/"
        },
        "id": "c1uV7GyGgBjq",
        "outputId": "d4bdf613-8a97-4a7b-c258-189604aa77d1"
      },
      "execution_count": 13,
      "outputs": [
        {
          "output_type": "execute_result",
          "data": {
            "text/plain": [
              "image_id        0\n",
              "manufacturer    0\n",
              "dtype: int64"
            ]
          },
          "metadata": {},
          "execution_count": 13
        }
      ]
    },
    {
      "cell_type": "code",
      "source": [
        "# autre foction plus automatique (valeurs manquantes dans image_id)\n",
        "assert manufacturer_df['image_id'].isna().sum() == 0, \"valeur manqunte dans image_id\"\n",
        "assert manufacturer_df['manufacturer'].isna().sum() == 0, \"valeur manquante dans manufacturer\""
      ],
      "metadata": {
        "id": "NmdrFMvdgBof"
      },
      "execution_count": 16,
      "outputs": []
    },
    {
      "cell_type": "markdown",
      "source": [
        "Deal with n columns"
      ],
      "metadata": {
        "id": "3wOcum5Zkm3m"
      }
    },
    {
      "cell_type": "code",
      "source": [
        "#première méthode\n",
        "manufacturer_df=pd.read_csv(DATA_DIR/'images_manufacturer_train.txt', sep=' ',\n",
        "            names=['image_id', 'm1', 'm2'],\n",
        "            dtype={'image_id': str}, #pour prendre id comme chaine de caractère, cela permet de prendre les 0 non significatifs\n",
        "            )\n",
        "manufacturer_df['manufacturer']= manufacturer_df[\"m1\"]+' '+manufacturer_df[\"m2\"]\n",
        "manufacturer_df['manufacturer'].unique()"
      ],
      "metadata": {
        "colab": {
          "base_uri": "https://localhost:8080/"
        },
        "id": "RfUXFAxFklfx",
        "outputId": "75e0280e-baae-45ee-8bd0-8814fc42cd9d"
      },
      "execution_count": 17,
      "outputs": [
        {
          "output_type": "execute_result",
          "data": {
            "text/plain": [
              "array([nan, 'British Aerospace', 'Lockheed Corporation',\n",
              "       'Douglas Aircraft', 'McDonnell Douglas', 'de Havilland',\n",
              "       'Lockheed Martin', 'Dassault Aviation', 'Bombardier Aerospace',\n",
              "       'Gulfstream Aerospace', 'Cirrus Aircraft'], dtype=object)"
            ]
          },
          "metadata": {},
          "execution_count": 17
        }
      ]
    },
    {
      "cell_type": "code",
      "source": [
        "# deuxième méthode\n",
        "manufacturer_df= pd.read_csv(DATA_DIR/ 'images_manufacturer_train.txt', sep='/t',\n",
        "                             names=['all'],\n",
        "                             dtype= {'all': str},\n",
        "                             )\n",
        "#la fonction split() découpe un chaine de caractères\n",
        "manufacturer_df['image_id']= manufacturer_df['all'].apply(lambda x: x.split(' ')[0])\n",
        "# la fonction .join(liste) concatène les éléments de la liste en utilisant le séparateur ' ' \n",
        "manufacturer_df['manufacturer']= manufacturer_df['all'].apply(lambda x: ' '.join(x.split(' ')[1:]))"
      ],
      "metadata": {
        "colab": {
          "base_uri": "https://localhost:8080/"
        },
        "id": "cFM_iSaujNai",
        "outputId": "9598ca11-aaa4-4831-ad55-bc5008246efd"
      },
      "execution_count": 19,
      "outputs": [
        {
          "output_type": "stream",
          "name": "stderr",
          "text": [
            "/usr/local/lib/python3.7/dist-packages/pandas/util/_decorators.py:311: ParserWarning: Falling back to the 'python' engine because the 'c' engine does not support regex separators (separators > 1 char and different from '\\s+' are interpreted as regex); you can avoid this warning by specifying engine='python'.\n",
            "  return func(*args, **kwargs)\n"
          ]
        }
      ]
    },
    {
      "cell_type": "code",
      "source": [
        "manufacturer_df['manufacturer'].unique()"
      ],
      "metadata": {
        "colab": {
          "base_uri": "https://localhost:8080/"
        },
        "id": "GP517WIljNln",
        "outputId": "09109480-6ff9-4922-e74d-8996e59014a4"
      },
      "execution_count": 20,
      "outputs": [
        {
          "output_type": "execute_result",
          "data": {
            "text/plain": [
              "array(['Boeing', 'Airbus', 'ATR', 'Antonov', 'British Aerospace',\n",
              "       'Beechcraft', 'Lockheed Corporation', 'Douglas Aircraft Company',\n",
              "       'Canadair', 'Cessna', 'McDonnell Douglas', 'de Havilland', 'Robin',\n",
              "       'Dornier', 'Embraer', 'Eurofighter', 'Lockheed Martin',\n",
              "       'Dassault Aviation', 'Fokker', 'Bombardier Aerospace',\n",
              "       'Gulfstream Aerospace', 'Ilyushin', 'Fairchild', 'Piper',\n",
              "       'Cirrus Aircraft', 'Saab', 'Supermarine', 'Panavia', 'Tupolev',\n",
              "       'Yakovlev'], dtype=object)"
            ]
          },
          "metadata": {},
          "execution_count": 20
        }
      ]
    },
    {
      "cell_type": "code",
      "source": [
        "#recherche du caractère T dans le fichier\n",
        "! grep 'T' dataset/data/images_manufacturer_train.txt | head -3"
      ],
      "metadata": {
        "colab": {
          "base_uri": "https://localhost:8080/"
        },
        "id": "EV0LB0HcjNt9",
        "outputId": "2e97ae42-9796-43a6-9792-3090b686e036"
      },
      "execution_count": 22,
      "outputs": [
        {
          "output_type": "stream",
          "name": "stdout",
          "text": [
            "0724121 ATR\n",
            "0619697 ATR\n",
            "2243949 ATR\n"
          ]
        }
      ]
    },
    {
      "cell_type": "code",
      "source": [
        "#nombre de ligne avec 'T'\n",
        "! grep 'T' dataset/data/images_manufacturer_train.txt | wc -l"
      ],
      "metadata": {
        "colab": {
          "base_uri": "https://localhost:8080/"
        },
        "id": "S6cYSP4ipVZ6",
        "outputId": "da5c8def-8a09-4a87-b42b-ba12a7843e3e"
      },
      "execution_count": 25,
      "outputs": [
        {
          "output_type": "stream",
          "name": "stdout",
          "text": [
            "132\n"
          ]
        }
      ]
    }
  ]
}